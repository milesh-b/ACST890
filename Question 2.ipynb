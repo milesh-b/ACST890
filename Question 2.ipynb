{
 "cells": [
  {
   "cell_type": "markdown",
   "metadata": {},
   "source": [
    "## Q2\n",
    "Github repository: ACST890\n",
    "<br>Name: milesh-b\n",
    "<br>Files name: Question 2.ipynb\n"
   ]
  },
  {
   "cell_type": "markdown",
   "metadata": {},
   "source": [
    "\n",
    "### a)\n",
    "    We first need to load the data. I am using a dataframe to do this.\n",
    "    The code is as shown below:"
   ]
  },
  {
   "cell_type": "code",
   "execution_count": 1,
   "metadata": {},
   "outputs": [
    {
     "data": {
      "text/html": [
       "<div>\n",
       "<style scoped>\n",
       "    .dataframe tbody tr th:only-of-type {\n",
       "        vertical-align: middle;\n",
       "    }\n",
       "\n",
       "    .dataframe tbody tr th {\n",
       "        vertical-align: top;\n",
       "    }\n",
       "\n",
       "    .dataframe thead th {\n",
       "        text-align: right;\n",
       "    }\n",
       "</style>\n",
       "<table border=\"1\" class=\"dataframe\">\n",
       "  <thead>\n",
       "    <tr style=\"text-align: right;\">\n",
       "      <th></th>\n",
       "      <th>B</th>\n",
       "      <th>C</th>\n",
       "      <th>D</th>\n",
       "      <th>E</th>\n",
       "      <th>F</th>\n",
       "      <th>G</th>\n",
       "      <th>H</th>\n",
       "    </tr>\n",
       "  </thead>\n",
       "  <tbody>\n",
       "    <tr>\n",
       "      <th>Output, Q</th>\n",
       "      <td>80</td>\n",
       "      <td>150</td>\n",
       "      <td>135</td>\n",
       "      <td>165</td>\n",
       "      <td>95</td>\n",
       "      <td>130</td>\n",
       "      <td>110</td>\n",
       "    </tr>\n",
       "    <tr>\n",
       "      <th>Labour, L</th>\n",
       "      <td>60</td>\n",
       "      <td>100</td>\n",
       "      <td>100</td>\n",
       "      <td>120</td>\n",
       "      <td>70</td>\n",
       "      <td>90</td>\n",
       "      <td>80</td>\n",
       "    </tr>\n",
       "    <tr>\n",
       "      <th>Capital, K</th>\n",
       "      <td>50</td>\n",
       "      <td>100</td>\n",
       "      <td>80</td>\n",
       "      <td>100</td>\n",
       "      <td>60</td>\n",
       "      <td>80</td>\n",
       "      <td>70</td>\n",
       "    </tr>\n",
       "  </tbody>\n",
       "</table>\n",
       "</div>"
      ],
      "text/plain": [
       "             B    C    D    E   F    G    H\n",
       "Output, Q   80  150  135  165  95  130  110\n",
       "Labour, L   60  100  100  120  70   90   80\n",
       "Capital, K  50  100   80  100  60   80   70"
      ]
     },
     "execution_count": 1,
     "metadata": {},
     "output_type": "execute_result"
    }
   ],
   "source": [
    "# import pandas package\n",
    "import pandas as pd\n",
    "df={  'B':[80,60,50],\n",
    "      'C':[150,100,100],\n",
    "      'D':[135,100,80],\n",
    "      'E':[165,120,100],\n",
    "      'F':[95,70,60],\n",
    "      'G':[130,90,80],\n",
    "      'H':[110,80,70]}\n",
    "\n",
    "#convert to data frame\n",
    "data = pd.DataFrame(df, columns=['B','C','D','E','F','G','H'],index=['Output, Q','Labour, L','Capital, K'])\n",
    "data"
   ]
  },
  {
   "cell_type": "markdown",
   "metadata": {},
   "source": [
    "Once the data is loaded we can now calculate the mean,variance, standard deviation and median. To make it easier to view, I have arranged it in a table. The code is as shown below:"
   ]
  },
  {
   "cell_type": "code",
   "execution_count": 2,
   "metadata": {},
   "outputs": [
    {
     "data": {
      "text/html": [
       "<div>\n",
       "<style scoped>\n",
       "    .dataframe tbody tr th:only-of-type {\n",
       "        vertical-align: middle;\n",
       "    }\n",
       "\n",
       "    .dataframe tbody tr th {\n",
       "        vertical-align: top;\n",
       "    }\n",
       "\n",
       "    .dataframe thead th {\n",
       "        text-align: right;\n",
       "    }\n",
       "</style>\n",
       "<table border=\"1\" class=\"dataframe\">\n",
       "  <thead>\n",
       "    <tr style=\"text-align: right;\">\n",
       "      <th></th>\n",
       "      <th>Mean</th>\n",
       "      <th>Var</th>\n",
       "      <th>SD</th>\n",
       "      <th>Median</th>\n",
       "    </tr>\n",
       "  </thead>\n",
       "  <tbody>\n",
       "    <tr>\n",
       "      <th>Output, Q</th>\n",
       "      <td>123.571429</td>\n",
       "      <td>914.285714</td>\n",
       "      <td>30.237158</td>\n",
       "      <td>130.0</td>\n",
       "    </tr>\n",
       "    <tr>\n",
       "      <th>Labour, L</th>\n",
       "      <td>88.571429</td>\n",
       "      <td>414.285714</td>\n",
       "      <td>20.354010</td>\n",
       "      <td>90.0</td>\n",
       "    </tr>\n",
       "    <tr>\n",
       "      <th>Capital, K</th>\n",
       "      <td>77.142857</td>\n",
       "      <td>357.142857</td>\n",
       "      <td>18.898224</td>\n",
       "      <td>80.0</td>\n",
       "    </tr>\n",
       "  </tbody>\n",
       "</table>\n",
       "</div>"
      ],
      "text/plain": [
       "                  Mean         Var         SD  Median\n",
       "Output, Q   123.571429  914.285714  30.237158   130.0\n",
       "Labour, L    88.571429  414.285714  20.354010    90.0\n",
       "Capital, K   77.142857  357.142857  18.898224    80.0"
      ]
     },
     "execution_count": 2,
     "metadata": {},
     "output_type": "execute_result"
    }
   ],
   "source": [
    "#To calculate the mean\n",
    "mean=data.mean(axis=1)\n",
    "#To calculate the Variance\n",
    "var=data.var(axis=1)\n",
    "#To calculate the SD\n",
    "SD=data.std(axis=1)\n",
    "#To Calculate the median\n",
    "median=data.median(axis=1)\n",
    "#save the statistical inferences\n",
    "stat=pd.concat([mean,var,SD,median],axis=1)\n",
    "stat.columns=['Mean','Var','SD',\"Median\"]\n",
    "stat"
   ]
  },
  {
   "cell_type": "markdown",
   "metadata": {},
   "source": [
    "### b)"
   ]
  },
  {
   "cell_type": "markdown",
   "metadata": {},
   "source": [
    "Ploting a histogram we can use the code shown below utilizing the matplotlib library:"
   ]
  },
  {
   "cell_type": "code",
   "execution_count": 3,
   "metadata": {},
   "outputs": [
    {
     "data": {
      "text/plain": [
       "Text(0, 0.5, 'Freq')"
      ]
     },
     "execution_count": 3,
     "metadata": {},
     "output_type": "execute_result"
    }
   ],
   "source": [
    "# Ploting Histogram for Output, Q\n",
    "import matplotlib.pyplot as plt\n",
    "data.loc[\"Output, Q\",].hist(alpha=1,bins=\"auto\")\n",
    "plt.title('Histogram for Output, Q')\n",
    "plt.xlabel(\"Value\")\n",
    "plt.ylabel(\"Freq\")"
   ]
  },
  {
   "cell_type": "code",
   "execution_count": 4,
   "metadata": {},
   "outputs": [
    {
     "data": {
      "text/plain": [
       "Text(0, 0.5, 'Freq')"
      ]
     },
     "execution_count": 4,
     "metadata": {},
     "output_type": "execute_result"
    },
    {
     "data": {
      "image/png": "[encoded data removed]",
      "text/plain": [
       "<Figure size 432x288 with 1 Axes>"
      ]
     },
     "metadata": {
      "needs_background": "light"
     },
     "output_type": "display_data"
    }
   ],
   "source": [
    "# Ploting Histogram for Labour, L\n",
    "data.loc[\"Labour, L\",].hist(alpha=1,bins=\"auto\")\n",
    "plt.title('Histogram for Labour, L')\n",
    "plt.xlabel(\"Value\")\n",
    "plt.ylabel(\"Freq\")"
   ]
  },
  {
   "cell_type": "markdown",
   "metadata": {},
   "source": [
    "### c)\n",
    "A Cobb -Douglas production function takes the form $Q=AL^\\alpha K^\\beta$. Taking the log on both sides we have $logQ=logA+\\alpha logL+ \\beta logK$. Therefore we need to calculate $logQ$,$logL$ and $logK$ which can be achived using the numpy library as shown in the code below:"
   ]
  },
  {
   "cell_type": "code",
   "execution_count": 5,
   "metadata": {},
   "outputs": [
    {
     "data": {
      "text/html": [
       "<div>\n",
       "<style scoped>\n",
       "    .dataframe tbody tr th:only-of-type {\n",
       "        vertical-align: middle;\n",
       "    }\n",
       "\n",
       "    .dataframe tbody tr th {\n",
       "        vertical-align: top;\n",
       "    }\n",
       "\n",
       "    .dataframe thead th {\n",
       "        text-align: right;\n",
       "    }\n",
       "</style>\n",
       "<table border=\"1\" class=\"dataframe\">\n",
       "  <thead>\n",
       "    <tr style=\"text-align: right;\">\n",
       "      <th></th>\n",
       "      <th>Output</th>\n",
       "      <th>Labour</th>\n",
       "      <th>Capital</th>\n",
       "    </tr>\n",
       "  </thead>\n",
       "  <tbody>\n",
       "    <tr>\n",
       "      <th>B</th>\n",
       "      <td>4.382027</td>\n",
       "      <td>3.912023</td>\n",
       "      <td>4.094345</td>\n",
       "    </tr>\n",
       "    <tr>\n",
       "      <th>C</th>\n",
       "      <td>5.010635</td>\n",
       "      <td>4.605170</td>\n",
       "      <td>4.605170</td>\n",
       "    </tr>\n",
       "    <tr>\n",
       "      <th>D</th>\n",
       "      <td>4.905275</td>\n",
       "      <td>4.382027</td>\n",
       "      <td>4.605170</td>\n",
       "    </tr>\n",
       "    <tr>\n",
       "      <th>E</th>\n",
       "      <td>5.105945</td>\n",
       "      <td>4.605170</td>\n",
       "      <td>4.787492</td>\n",
       "    </tr>\n",
       "    <tr>\n",
       "      <th>F</th>\n",
       "      <td>4.553877</td>\n",
       "      <td>4.094345</td>\n",
       "      <td>4.248495</td>\n",
       "    </tr>\n",
       "    <tr>\n",
       "      <th>G</th>\n",
       "      <td>4.867534</td>\n",
       "      <td>4.382027</td>\n",
       "      <td>4.499810</td>\n",
       "    </tr>\n",
       "    <tr>\n",
       "      <th>H</th>\n",
       "      <td>4.700480</td>\n",
       "      <td>4.248495</td>\n",
       "      <td>4.382027</td>\n",
       "    </tr>\n",
       "  </tbody>\n",
       "</table>\n",
       "</div>"
      ],
      "text/plain": [
       "     Output    Labour   Capital\n",
       "B  4.382027  3.912023  4.094345\n",
       "C  5.010635  4.605170  4.605170\n",
       "D  4.905275  4.382027  4.605170\n",
       "E  5.105945  4.605170  4.787492\n",
       "F  4.553877  4.094345  4.248495\n",
       "G  4.867534  4.382027  4.499810\n",
       "H  4.700480  4.248495  4.382027"
      ]
     },
     "execution_count": 5,
     "metadata": {},
     "output_type": "execute_result"
    }
   ],
   "source": [
    "#Finding the Log values we first need to import the numpy library\n",
    "import numpy as np\n",
    "# log values for Output, Q\n",
    "log_Q=np.log(data.loc[\"Output, Q\"])\n",
    "# log values for Labour, L\n",
    "log_L=np.log(data.loc[\"Labour, L\"])\n",
    "# log values for Capital, K\n",
    "log_K=np.log(data.loc[\"Capital, K\"])\n",
    "#save the log values as log_val\n",
    "log_val=pd.concat([log_Q,log_K,log_L],axis=1)\n",
    "log_val.columns=['Output','Labour','Capital']\n",
    "log_val"
   ]
  },
  {
   "cell_type": "markdown",
   "metadata": {},
   "source": [
    "### d)\n",
    "A multiple regression model takes the form $\\hat{Y_i}=\\beta_0+\\beta_1 X_{1i}+ \\beta_2 X_{2i}+...+\\beta_k X_{ki}.$ In our case we are going to use the Log of Cobb-Douglas equation which is $logQ=logA+\\alpha logL+ \\beta logK$.\n",
    "It can be seen that the intercept term $\\beta_0=logA, \\beta_1=\\alpha, and \\beta_2=\\beta$ \n",
    "<br> We are using the statsmodel library to run the regression analysis as shown in the code below:"
   ]
  },
  {
   "cell_type": "code",
   "execution_count": 6,
   "metadata": {},
   "outputs": [
    {
     "name": "stdout",
     "output_type": "stream",
     "text": [
      "                            OLS Regression Results                            \n",
      "==============================================================================\n",
      "Dep. Variable:                 Output   R-squared:                       0.998\n",
      "Model:                            OLS   Adj. R-squared:                  0.997\n",
      "Method:                 Least Squares   F-statistic:                     958.4\n",
      "Date:                Thu, 16 May 2019   Prob (F-statistic):           4.34e-06\n",
      "Time:                        20:37:19   Log-Likelihood:                 21.712\n",
      "No. Observations:                   7   AIC:                            -37.42\n",
      "Df Residuals:                       4   BIC:                            -37.59\n",
      "Df Model:                           2                                         \n",
      "Covariance Type:            nonrobust                                         \n",
      "==============================================================================\n",
      "                 coef    std err          t      P>|t|      [0.025      0.975]\n",
      "------------------------------------------------------------------------------\n",
      "Intercept      0.1462      0.114      1.282      0.269      -0.170       0.463\n",
      "Labour         0.5087      0.083      6.150      0.004       0.279       0.738\n",
      "Capital        0.5484      0.090      6.127      0.004       0.300       0.797\n",
      "==============================================================================\n",
      "Omnibus:                          nan   Durbin-Watson:                   2.801\n",
      "Prob(Omnibus):                    nan   Jarque-Bera (JB):                2.261\n",
      "Skew:                           1.352   Prob(JB):                        0.323\n",
      "Kurtosis:                       3.665   Cond. No.                         160.\n",
      "==============================================================================\n",
      "\n",
      "Warnings:\n",
      "[1] Standard Errors assume that the covariance matrix of the errors is correctly specified.\n"
     ]
    },
    {
     "name": "stderr",
     "output_type": "stream",
     "text": [
      "/home/altec/.local/lib/python3.5/site-packages/statsmodels/stats/stattools.py:72: ValueWarning: omni_normtest is not valid with less than 8 observations; 7 samples were given.\n",
      "  \"samples were given.\" % int(n), ValueWarning)\n"
     ]
    }
   ],
   "source": [
    "#importing the statsmodels package\n",
    "import statsmodels.api as sm\n",
    "import statsmodels.formula.api as smf\n",
    "results=smf.ols('Output ~ Labour+ Capital',data=log_val).fit()\n",
    "print(results.summary())"
   ]
  },
  {
   "cell_type": "markdown",
   "metadata": {},
   "source": [
    "Using the results obtained above we have $\\alpha = 0.5087, \\beta = 0.5484$ and $A=e^{0.1462}=1.1574$.\n",
    "Analysing the p-value for both $\\alpha$ and $\\beta$ is quite small and therefore the values are significant at 5% CI. The A value is not sigificant as the P-value is greater than 5%.\n",
    "The error message is because we have little data.\n",
    "<br>In our case the $\\alpha + \\beta = 1.0571,$ which means that there is increasing returns to scale.  "
   ]
  },
  {
   "cell_type": "markdown",
   "metadata": {},
   "source": [
    "### e)\n",
    "To plot the residuals we first need to find the difference between the actual values and the fited values ie $(y-\\hat{y})$, and then we can plot this by using the matplotlib library  as shown below."
   ]
  },
  {
   "cell_type": "code",
   "execution_count": 7,
   "metadata": {
    "scrolled": false
   },
   "outputs": [
    {
     "data": {
      "text/plain": [
       "Text(0, 0.5, 'Residual')"
      ]
     },
     "execution_count": 7,
     "metadata": {},
     "output_type": "execute_result"
    },
    {
     "data": {
      "image/png": "[encoded data removed]",
      "text/plain": [
       "<Figure size 432x180 with 1 Axes>"
      ]
     },
     "metadata": {
      "needs_background": "light"
     },
     "output_type": "display_data"
    }
   ],
   "source": [
    "\n",
    "from matplotlib import pyplot as plt \n",
    "model_fitted_y=results.fittedvalues\n",
    "#model_residuals=results.resid\n",
    "true_val=log_val[\"Output\"]\n",
    "residuals=true_val-model_fitted_y\n",
    "fig, ax=plt.subplots(figsize=(6,2.5))\n",
    "_=ax.scatter(residuals,model_fitted_y)\n",
    "plt.title('Residual Plot')\n",
    "plt.xlabel(\"Predicted Value\")\n",
    "plt.ylabel(\"Residual\")\n"
   ]
  },
  {
   "cell_type": "markdown",
   "metadata": {},
   "source": [
    "In the figure above, it is hard to make a justification as we have very little data and therefore we cannot be certain that the residuals are normally distributed."
   ]
  },
  {
   "cell_type": "markdown",
   "metadata": {},
   "source": [
    "### f)"
   ]
  },
  {
   "cell_type": "markdown",
   "metadata": {},
   "source": [
    "The $R_{adj}^2$ can be calculated by the formula $$R_{adj}^2=1-\\frac{n-1}{n-k}(1-R^2)$$ where $$n=number\\:of\\:observations$$ $$k=number\\:of\\:independent\\:variables$$ $$R^2= coefficient \\:of \\:determination$$\n",
    "<br> We can also use the package results to calculate the $R_{adj}^2$ as shown in the code below:"
   ]
  },
  {
   "cell_type": "code",
   "execution_count": 8,
   "metadata": {},
   "outputs": [
    {
     "data": {
      "text/plain": [
       "0.996876341819805"
      ]
     },
     "execution_count": 8,
     "metadata": {},
     "output_type": "execute_result"
    }
   ],
   "source": [
    "#calculate the adj R^2 using the package\n",
    "results.rsquared_adj"
   ]
  },
  {
   "cell_type": "markdown",
   "metadata": {},
   "source": [
    "The above result ($R_{adj}^2=0.996876341819805$) indicates a near perfect fit, hovever this may be due to the low number of observations."
   ]
  }
 ],
 "metadata": {
  "kernelspec": {
   "display_name": "Python 3",
   "language": "python",
   "name": "python3"
  },
  "language_info": {
   "codemirror_mode": {
    "name": "ipython",
    "version": 3
   },
   "file_extension": ".py",
   "mimetype": "text/x-python",
   "name": "python",
   "nbconvert_exporter": "python",
   "pygments_lexer": "ipython3",
   "version": "3.5.2"
  }
 },
 "nbformat": 4,
 "nbformat_minor": 2
}
